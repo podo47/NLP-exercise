{
  "nbformat": 4,
  "nbformat_minor": 0,
  "metadata": {
    "colab": {
      "provenance": [],
      "toc_visible": true,
      "authorship_tag": "ABX9TyNzekv39LYL9blbqMOZ6bFL",
      "include_colab_link": true
    },
    "kernelspec": {
      "name": "python3",
      "display_name": "Python 3"
    },
    "language_info": {
      "name": "python"
    }
  },
  "cells": [
    {
      "cell_type": "markdown",
      "metadata": {
        "id": "view-in-github",
        "colab_type": "text"
      },
      "source": [
        "<a href=\"https://colab.research.google.com/github/podo47/NLP-exercise/blob/main/NLP_jieba.ipynb\" target=\"_parent\"><img src=\"https://colab.research.google.com/assets/colab-badge.svg\" alt=\"Open In Colab\"/></a>"
      ]
    },
    {
      "cell_type": "code",
      "execution_count": 20,
      "metadata": {
        "colab": {
          "base_uri": "https://localhost:8080/"
        },
        "id": "VDqrmA_diGxf",
        "outputId": "04664a9a-47bb-4fe2-df06-c8ecbfc969f6"
      },
      "outputs": [
        {
          "output_type": "stream",
          "name": "stdout",
          "text": [
            "Requirement already satisfied: jieba in /usr/local/lib/python3.10/dist-packages (0.42.1)\n",
            "Collecting paddlepaddle\n",
            "  Downloading paddlepaddle-2.6.1-cp310-cp310-manylinux1_x86_64.whl (125.9 MB)\n",
            "\u001b[2K     \u001b[90m━━━━━━━━━━━━━━━━━━━━━━━━━━━━━━━━━━━━━━━━\u001b[0m \u001b[32m125.9/125.9 MB\u001b[0m \u001b[31m3.6 MB/s\u001b[0m eta \u001b[36m0:00:00\u001b[0m\n",
            "\u001b[?25hCollecting httpx (from paddlepaddle)\n",
            "  Downloading httpx-0.27.0-py3-none-any.whl (75 kB)\n",
            "\u001b[2K     \u001b[90m━━━━━━━━━━━━━━━━━━━━━━━━━━━━━━━━━━━━━━━━\u001b[0m \u001b[32m75.6/75.6 kB\u001b[0m \u001b[31m6.8 MB/s\u001b[0m eta \u001b[36m0:00:00\u001b[0m\n",
            "\u001b[?25hRequirement already satisfied: numpy>=1.13 in /usr/local/lib/python3.10/dist-packages (from paddlepaddle) (1.25.2)\n",
            "Requirement already satisfied: Pillow in /usr/local/lib/python3.10/dist-packages (from paddlepaddle) (9.4.0)\n",
            "Requirement already satisfied: decorator in /usr/local/lib/python3.10/dist-packages (from paddlepaddle) (4.4.2)\n",
            "Collecting astor (from paddlepaddle)\n",
            "  Downloading astor-0.8.1-py2.py3-none-any.whl (27 kB)\n",
            "Requirement already satisfied: opt-einsum==3.3.0 in /usr/local/lib/python3.10/dist-packages (from paddlepaddle) (3.3.0)\n",
            "Requirement already satisfied: protobuf>=3.20.2 in /usr/local/lib/python3.10/dist-packages (from paddlepaddle) (3.20.3)\n",
            "Requirement already satisfied: anyio in /usr/local/lib/python3.10/dist-packages (from httpx->paddlepaddle) (3.7.1)\n",
            "Requirement already satisfied: certifi in /usr/local/lib/python3.10/dist-packages (from httpx->paddlepaddle) (2024.6.2)\n",
            "Collecting httpcore==1.* (from httpx->paddlepaddle)\n",
            "  Downloading httpcore-1.0.5-py3-none-any.whl (77 kB)\n",
            "\u001b[2K     \u001b[90m━━━━━━━━━━━━━━━━━━━━━━━━━━━━━━━━━━━━━━━━\u001b[0m \u001b[32m77.9/77.9 kB\u001b[0m \u001b[31m6.3 MB/s\u001b[0m eta \u001b[36m0:00:00\u001b[0m\n",
            "\u001b[?25hRequirement already satisfied: idna in /usr/local/lib/python3.10/dist-packages (from httpx->paddlepaddle) (3.7)\n",
            "Requirement already satisfied: sniffio in /usr/local/lib/python3.10/dist-packages (from httpx->paddlepaddle) (1.3.1)\n",
            "Collecting h11<0.15,>=0.13 (from httpcore==1.*->httpx->paddlepaddle)\n",
            "  Downloading h11-0.14.0-py3-none-any.whl (58 kB)\n",
            "\u001b[2K     \u001b[90m━━━━━━━━━━━━━━━━━━━━━━━━━━━━━━━━━━━━━━━━\u001b[0m \u001b[32m58.3/58.3 kB\u001b[0m \u001b[31m5.4 MB/s\u001b[0m eta \u001b[36m0:00:00\u001b[0m\n",
            "\u001b[?25hRequirement already satisfied: exceptiongroup in /usr/local/lib/python3.10/dist-packages (from anyio->httpx->paddlepaddle) (1.2.1)\n",
            "Installing collected packages: h11, astor, httpcore, httpx, paddlepaddle\n",
            "Successfully installed astor-0.8.1 h11-0.14.0 httpcore-1.0.5 httpx-0.27.0 paddlepaddle-2.6.1\n"
          ]
        }
      ],
      "source": [
        "!pip install jieba\n",
        "!pip install paddlepaddle"
      ]
    },
    {
      "cell_type": "code",
      "source": [
        "import jieba\n",
        "import paddle"
      ],
      "metadata": {
        "id": "vFELFt6tiihd"
      },
      "execution_count": 21,
      "outputs": []
    },
    {
      "cell_type": "code",
      "source": [
        "!wget https://raw.githubusercontent.com/ldkrsi/jieba-zh_TW/master/jieba/dict.txt"
      ],
      "metadata": {
        "colab": {
          "base_uri": "https://localhost:8080/"
        },
        "id": "eZACHM5qk-l3",
        "outputId": "6e32d66e-1c3a-4a33-98f5-332f06fcd380"
      },
      "execution_count": 10,
      "outputs": [
        {
          "output_type": "stream",
          "name": "stdout",
          "text": [
            "--2024-07-01 14:03:26--  https://raw.githubusercontent.com/ldkrsi/jieba-zh_TW/master/jieba/dict.txt\n",
            "Resolving raw.githubusercontent.com (raw.githubusercontent.com)... 185.199.110.133, 185.199.108.133, 185.199.111.133, ...\n",
            "Connecting to raw.githubusercontent.com (raw.githubusercontent.com)|185.199.110.133|:443... connected.\n",
            "HTTP request sent, awaiting response... 200 OK\n",
            "Length: 4154480 (4.0M) [application/octet-stream]\n",
            "Saving to: ‘dict.txt’\n",
            "\n",
            "dict.txt            100%[===================>]   3.96M  --.-KB/s    in 0.08s   \n",
            "\n",
            "2024-07-01 14:03:26 (50.4 MB/s) - ‘dict.txt’ saved [4154480/4154480]\n",
            "\n"
          ]
        }
      ]
    },
    {
      "cell_type": "code",
      "source": [
        "jieba.set_dictionary('dict.txt')"
      ],
      "metadata": {
        "id": "tVIFwowMic3W"
      },
      "execution_count": 12,
      "outputs": []
    },
    {
      "cell_type": "markdown",
      "source": [
        "## Jieba的四種斷詞模式"
      ],
      "metadata": {
        "id": "nsYSg-ztlPGS"
      }
    },
    {
      "cell_type": "markdown",
      "source": [
        "(其實用在簡體效果會較好)"
      ],
      "metadata": {
        "id": "Dkckymkrqa_w"
      }
    },
    {
      "cell_type": "code",
      "source": [
        "# 精確模式: Jieba基礎的斷詞模式，也就是基本款\n",
        "text_after_jieba = jieba.cut(\"我想買一台進口休旅車\", cut_all=False) # 精確模式\n",
        "print(\"精確模式: \" + \"/ \".join(text_after_jieba))\n",
        "\n",
        "# 全模式: 將cut_all設為true，這個模式下會將可以斷的詞再繼續斷開，列出所有可能的詞\n",
        "text_after_jieba = jieba.cut(\"我想買一台進口休旅車\", cut_all=True) # 全模式\n",
        "print(\"全模式: \" + \"/ \".join(text_after_jieba))\n",
        "\n",
        "# paddle模式: Jieba導入一個深度學習框架PaddlePaddle來進行分詞，據說是利用GRU，必須要先利用jieba.enable_paddle()來啟動\n",
        "jieba.enable_paddle()\n",
        "seg_list = jieba.cut(\"我想買一台進口休旅車\", use_paddle=True)  # 使用paddle\n",
        "print(\"paddle: \" + \"/ \".join(seg_list))\n",
        "\n",
        "# 搜尋引擎模式: 這個模式跟全模式很像，都可以將詞再更切分\n",
        "text_after_jieba = jieba.cut_for_search(\"我想買一台進口休旅車\")  # 搜尋引擎模式\n",
        "print(\"搜尋引擎: \" + \"/ \".join(text_after_jieba))\n",
        "\n"
      ],
      "metadata": {
        "colab": {
          "base_uri": "https://localhost:8080/"
        },
        "id": "v6LJBydqlK-0",
        "outputId": "ba4c3a81-6b40-474f-8dca-298cc747bf88"
      },
      "execution_count": 22,
      "outputs": [
        {
          "output_type": "stream",
          "name": "stderr",
          "text": [
            "Import error, cannot find paddle.fluid and jieba.lac_small.predict module. Now, back to jieba basic cut......\n",
            "DEBUG:jieba._compat:Import error, cannot find paddle.fluid and jieba.lac_small.predict module. Now, back to jieba basic cut......\n"
          ]
        },
        {
          "output_type": "stream",
          "name": "stdout",
          "text": [
            "精確模式: 我/ 想/ 買/ 一台/ 進口/ 休旅車\n",
            "全模式: 我/ 想/ 買/ 一/ 台/ 進口/ 休旅/ 休旅車/ 旅車\n",
            "paddle: 我/ 想/ 買/ 一台/ 進口/ 休旅車\n",
            "搜尋引擎: 我/ 想/ 買/ 一台/ 進口/ 休旅/ 旅車/ 休旅車\n"
          ]
        }
      ]
    },
    {
      "cell_type": "markdown",
      "source": [
        "## 辨識新字詞"
      ],
      "metadata": {
        "id": "dvJdB-VTqhMK"
      }
    },
    {
      "cell_type": "code",
      "source": [
        "# 若Jieba遇到新詞，可以透過HMM來預測\n",
        "words = jieba.cut(\"他使用了多拉A夢的任意門\", HMM=True) #HMM 設為 True\n",
        "words_list = []\n",
        "for word in words:\n",
        "    words_list.append(word)\n",
        "\n",
        "print(f'HMM output:{words_list}')"
      ],
      "metadata": {
        "colab": {
          "base_uri": "https://localhost:8080/"
        },
        "id": "aPPL0xJRqim2",
        "outputId": "027b9d61-be80-4b30-8dd1-0dc798da6da4"
      },
      "execution_count": 24,
      "outputs": [
        {
          "output_type": "stream",
          "name": "stdout",
          "text": [
            "HMM output:['他', '使用', '了', '多拉', 'A', '夢', '的', '任意門']\n"
          ]
        }
      ]
    },
    {
      "cell_type": "markdown",
      "source": [
        "## 載入自定義辭典"
      ],
      "metadata": {
        "id": "zZjCLArXrBDZ"
      }
    },
    {
      "cell_type": "code",
      "source": [
        "text = \"我透過多拉A夢的任意門來到卡加布列島\"\n",
        "words = jieba.cut(text)\n",
        "words_list = []\n",
        "for word in words:\n",
        "    words_list.append(word)\n",
        "\n",
        "print(f'output:{words_list}')\n",
        "\n",
        "# 載入自定義字典\n",
        "jieba.load_userdict('nlp_dict.txt')\n",
        "words = jieba.cut(text)\n",
        "words_list = []\n",
        "for word in words:\n",
        "    words_list.append(word)\n",
        "\n",
        "print(f'自定義字典output:{words_list}')"
      ],
      "metadata": {
        "colab": {
          "base_uri": "https://localhost:8080/"
        },
        "id": "38R96GEbrBsP",
        "outputId": "1e405ea7-845f-4bbb-e960-2ffe668d4ba4"
      },
      "execution_count": 32,
      "outputs": [
        {
          "output_type": "stream",
          "name": "stdout",
          "text": [
            "output:['我', '透過', '多拉A夢', '的', '任意門', '來到', '卡加布列島']\n",
            "自定義字典output:['我', '透過', '多拉A夢', '的', '任意門', '來到', '卡加布列島']\n"
          ]
        }
      ]
    },
    {
      "cell_type": "markdown",
      "source": [
        "## pos tagging"
      ],
      "metadata": {
        "id": "FoqalcXLtf0Q"
      }
    },
    {
      "cell_type": "code",
      "source": [
        "import jieba.posseg as pseg\n",
        "\n",
        "words = jieba.posseg.cut('我比較喜歡寫書法')\n",
        "for word, flag in words:\n",
        "    print(f'{word} {flag}')"
      ],
      "metadata": {
        "colab": {
          "base_uri": "https://localhost:8080/"
        },
        "id": "SAtQO5hJtgfN",
        "outputId": "76e28b3a-cf5f-4cd9-cfea-1a05c04a74f9"
      },
      "execution_count": 34,
      "outputs": [
        {
          "output_type": "stream",
          "name": "stdout",
          "text": [
            "我 N\n",
            "比較 ADV\n",
            "喜歡 Vt\n",
            "寫 Vt\n",
            "書法 N\n"
          ]
        }
      ]
    }
  ]
}